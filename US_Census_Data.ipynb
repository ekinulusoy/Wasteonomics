{
 "cells": [
  {
   "cell_type": "code",
   "execution_count": 8,
   "metadata": {},
   "outputs": [
    {
     "name": "stdout",
     "output_type": "stream",
     "text": [
      "   CTY_CODE              CTY_NAME I_ENDUSE                I_ENDUSE_LDESC  \\\n",
      "0      5200  UNITED ARAB EMIRATES    30000  PASSENGER CARS, NEW AND USED   \n",
      "1      5230                  OMAN    30000  PASSENGER CARS, NEW AND USED   \n",
      "2      5330                 INDIA    30000  PASSENGER CARS, NEW AND USED   \n",
      "3      5490              THAILAND    30000  PASSENGER CARS, NEW AND USED   \n",
      "4      5520               VIETNAM    30000  PASSENGER CARS, NEW AND USED   \n",
      "..      ...                   ...      ...                           ...   \n",
      "85     2230            COSTA RICA    30000  PASSENGER CARS, NEW AND USED   \n",
      "86     7870            MOZAMBIQUE    30000  PASSENGER CARS, NEW AND USED   \n",
      "87     7910          SOUTH AFRICA    30000  PASSENGER CARS, NEW AND USED   \n",
      "88     2XXX       CENTRAL AMERICA    30000  PASSENGER CARS, NEW AND USED   \n",
      "89     3XXX         SOUTH AMERICA    30000  PASSENGER CARS, NEW AND USED   \n",
      "\n",
      "   GEN_VAL_YR  YEAR MONTH I_ENDUSE  \n",
      "0       27646  2020    12    30000  \n",
      "1       21150  2020    12    30000  \n",
      "2   791338423  2020    12    30000  \n",
      "3   207971566  2020    12    30000  \n",
      "4    56376843  2020    12    30000  \n",
      "..        ...   ...   ...      ...  \n",
      "85     215000  2020    12    30000  \n",
      "86       8651  2020    12    30000  \n",
      "87  534958219  2020    12    30000  \n",
      "88     279495  2020    12    30000  \n",
      "89    4409399  2020    12    30000  \n",
      "\n",
      "[90 rows x 8 columns]\n"
     ]
    }
   ],
   "source": [
    "import requests\n",
    "import pandas as pd\n",
    "\n",
    "# Define the API endpoint and parameters\n",
    "stem = \"https://api.census.gov/data/timeseries/intltrade/\"\n",
    "database = \"imports/enduse\"\n",
    "\n",
    "endpoint= stem + database\n",
    "\n",
    "params = {\n",
    "    \"get\": \"CTY_CODE,CTY_NAME,I_ENDUSE,I_ENDUSE_LDESC,GEN_VAL_YR\",\n",
    "    \"YEAR\": \"2020\",\n",
    "    \"MONTH\": \"12\",\n",
    "    \"I_ENDUSE\": \"30000\"\n",
    "}\n",
    "\n",
    "# Make the request to the API\n",
    "response = requests.get(endpoint, params=params)\n",
    "\n",
    "# Check if the request was successful\n",
    "if response.status_code == 200:\n",
    "    # Parse the JSON response\n",
    "    data = response.json()\n",
    "    # Convert the data to a pandas DataFrame\n",
    "    df = pd.DataFrame(data[1:], columns=data[0])\n",
    "    # Display the DataFrame\n",
    "    print(df)\n",
    "else:\n",
    "    print(f\"Error: {response.status_code}\")\n",
    "\n",
    "# Save the DataFrame to a CSV file\n",
    "df.to_csv('census_import_data.csv', index=False)\n"
   ]
  },
  {
   "cell_type": "code",
   "execution_count": 6,
   "metadata": {},
   "outputs": [
    {
     "data": {
      "text/plain": [
       "'https://api.census.gov/data/timeseries/intltrade/exports/enduse'"
      ]
     },
     "execution_count": 6,
     "metadata": {},
     "output_type": "execute_result"
    }
   ],
   "source": [
    "stem = \"https://api.census.gov/data/timeseries/intltrade/\"\n",
    "enduse = \"exports/enduse\"\n",
    "\n",
    "stem+enduse"
   ]
  },
  {
   "cell_type": "code",
   "execution_count": null,
   "metadata": {},
   "outputs": [],
   "source": []
  }
 ],
 "metadata": {
  "kernelspec": {
   "display_name": "Python 3",
   "language": "python",
   "name": "python3"
  },
  "language_info": {
   "codemirror_mode": {
    "name": "ipython",
    "version": 3
   },
   "file_extension": ".py",
   "mimetype": "text/x-python",
   "name": "python",
   "nbconvert_exporter": "python",
   "pygments_lexer": "ipython3",
   "version": "3.10.0"
  }
 },
 "nbformat": 4,
 "nbformat_minor": 2
}
